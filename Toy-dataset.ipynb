{
 "cells": [
  {
   "cell_type": "code",
   "execution_count": 11,
   "id": "736211b1",
   "metadata": {},
   "outputs": [],
   "source": [
    "import cv2\n",
    "import numpy as np\n",
    "import random\n",
    "from scipy.ndimage import rotate\n",
    "import os\n",
    "import pandas as pd\n",
    "import itertools\n",
    "from tqdm import tqdm\n",
    "\n",
    "\n"
   ]
  },
  {
   "cell_type": "code",
   "execution_count": 12,
   "id": "46c403ac",
   "metadata": {},
   "outputs": [
    {
     "name": "stderr",
     "output_type": "stream",
     "text": [
      "Generating board images: 100%|██████████| 19683/19683 [00:27<00:00, 724.35it/s] \n"
     ]
    }
   ],
   "source": [
    "cell_size = 32\n",
    "img_size = cell_size * 3\n",
    "output_dir = os.path.join(os.getcwd(), \"ttt_dataset_clean_rotated\")\n",
    "os.makedirs(output_dir, exist_ok=True)\n",
    "\n",
    "winning_lines = [\n",
    "    [(0, 0), (0, 1), (0, 2)],\n",
    "    [(1, 0), (1, 1), (1, 2)],\n",
    "    [(2, 0), (2, 1), (2, 2)],\n",
    "    [(0, 0), (1, 0), (2, 0)],\n",
    "    [(0, 1), (1, 1), (2, 1)],\n",
    "    [(0, 2), (1, 2), (2, 2)],\n",
    "    [(0, 0), (1, 1), (2, 2)],\n",
    "    [(0, 2), (1, 1), (2, 0)]\n",
    "]\n",
    "\n",
    "def check_winner(board, player):\n",
    "    return any(all(board[i][j] == player for i, j in line) for line in winning_lines)\n",
    "\n",
    "def is_valid_game_state(board):\n",
    "    flat = [cell for row in board for cell in row]\n",
    "    x_count = flat.count('X')\n",
    "    o_count = flat.count('O')\n",
    "    if not (x_count == o_count or x_count == o_count + 1):\n",
    "        return False\n",
    "    x_win = check_winner(board, 'X')\n",
    "    o_win = check_winner(board, 'O')\n",
    "    if x_win and o_win:\n",
    "        return False\n",
    "    if x_win and x_count != o_count + 1:\n",
    "        return False\n",
    "    if o_win and x_count != o_count:\n",
    "        return False\n",
    "    return True\n",
    "\n",
    "def draw_board(state, rotation_angle=0):\n",
    "    img = np.ones((img_size, img_size), dtype=np.uint8) * 255\n",
    "    for i in range(1, 3):\n",
    "        cv2.line(img, (i * cell_size, 0), (i * cell_size, img_size), 0, 2)\n",
    "        cv2.line(img, (0, i * cell_size), (img_size, i * cell_size), 0, 2)\n",
    "    for i in range(3):\n",
    "        for j in range(3):\n",
    "            center = (j * cell_size + cell_size // 2, i * cell_size + cell_size // 2)\n",
    "            if state[i][j] == 'X':\n",
    "                cv2.line(img, (center[0] - 8, center[1] - 8), (center[0] + 8, center[1] + 8), 0, 2)\n",
    "                cv2.line(img, (center[0] - 8, center[1] + 8), (center[0] + 8, center[1] - 8), 0, 2)\n",
    "            elif state[i][j] == 'O':\n",
    "                cv2.circle(img, center, 10, 0, 2)\n",
    "    if rotation_angle != 0:\n",
    "        img = rotate(img, angle=rotation_angle, reshape=False, mode='constant', cval=255)\n",
    "    return img\n",
    "\n",
    "# Generate all valid boards and apply 90°-based rotations\n",
    "symbols = ['X', 'O', '']\n",
    "all_boards = list(itertools.product(symbols, repeat=9))\n",
    "labels = []\n",
    "img_id = 0\n",
    "rotation_angles = [0, 90, 180, 270]\n",
    "\n",
    "for board_tuple in tqdm(all_boards, desc=\"Generating board images\"):\n",
    "    board = [list(board_tuple[i*3:(i+1)*3]) for i in range(3)]\n",
    "    if not is_valid_game_state(board):\n",
    "        continue\n",
    "    if check_winner(board, 'X'):\n",
    "        label = 0\n",
    "    elif check_winner(board, 'O'):\n",
    "        label = 1\n",
    "    else:\n",
    "        label = 2\n",
    "    for angle in rotation_angles:\n",
    "        img = draw_board(board, rotation_angle=angle)\n",
    "        filename = f\"{img_id:05d}_rot{angle}.png\"\n",
    "        cv2.imwrite(os.path.join(output_dir, filename), img)\n",
    "        labels.append({'filename': filename, 'label': label})\n",
    "        img_id += 1\n",
    "\n",
    "# Save labels to CSV\n",
    "df = pd.DataFrame(labels)\n",
    "df.to_csv(os.path.join(output_dir, \"labels.csv\"), index=False)"
   ]
  },
  {
   "cell_type": "code",
   "execution_count": 1,
   "id": "0d76a47f",
   "metadata": {},
   "outputs": [
    {
     "name": "stdout",
     "output_type": "stream",
     "text": [
      "label\n",
      "2    18144\n",
      "0     2504\n",
      "1     1264\n",
      "Name: count, dtype: int64\n"
     ]
    }
   ],
   "source": [
    "import pandas as pd\n",
    "\n",
    "df = pd.read_csv(\"labels.csv\")\n",
    "print(df['label'].value_counts())\n"
   ]
  }
 ],
 "metadata": {
  "kernelspec": {
   "display_name": "Python 3",
   "language": "python",
   "name": "python3"
  },
  "language_info": {
   "codemirror_mode": {
    "name": "ipython",
    "version": 3
   },
   "file_extension": ".py",
   "mimetype": "text/x-python",
   "name": "python",
   "nbconvert_exporter": "python",
   "pygments_lexer": "ipython3",
   "version": "3.9.5"
  }
 },
 "nbformat": 4,
 "nbformat_minor": 5
}
